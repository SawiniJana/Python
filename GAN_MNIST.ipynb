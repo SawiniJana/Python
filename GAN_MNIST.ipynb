{
  "cells": [
    {
      "cell_type": "markdown",
      "metadata": {
        "id": "view-in-github",
        "colab_type": "text"
      },
      "source": [
        "<a href=\"https://colab.research.google.com/github/SawiniJana/Python/blob/main/GAN_MNIST.ipynb\" target=\"_parent\"><img src=\"https://colab.research.google.com/assets/colab-badge.svg\" alt=\"Open In Colab\"/></a>"
      ]
    },
    {
      "cell_type": "code",
      "source": [],
      "metadata": {
        "id": "YQVB6cwbOD7F"
      },
      "id": "YQVB6cwbOD7F",
      "execution_count": 74,
      "outputs": []
    },
    {
      "cell_type": "code",
      "execution_count": 75,
      "id": "2e4ad5e7",
      "metadata": {
        "id": "2e4ad5e7"
      },
      "outputs": [],
      "source": [
        "from torchvision import datasets\n",
        "from torchvision import transforms\n",
        "import torch.nn as nn\n",
        "import torch\n",
        "import torch.nn.functional as F\n"
      ]
    },
    {
      "cell_type": "code",
      "execution_count": 76,
      "id": "4ddb219d",
      "metadata": {
        "id": "4ddb219d"
      },
      "outputs": [],
      "source": [
        "transform = transforms.Compose([\n",
        "    transforms.ToTensor(),\n",
        "    transforms.Normalize((0.5,), (0.5,))\n",
        "])\n",
        "\n",
        "train_data = datasets.MNIST(\n",
        "    root = \"./data\",\n",
        "    train = True,\n",
        "    download = True,\n",
        "    transform = transform,\n",
        "    target_transform = None\n",
        ")\n",
        "\n",
        "test_data = datasets.MNIST(\n",
        "    root = \"./data\",\n",
        "    train = False,\n",
        "    download = True,\n",
        "    transform = transform\n",
        ")"
      ]
    },
    {
      "cell_type": "code",
      "execution_count": 77,
      "id": "632aa3ec",
      "metadata": {
        "colab": {
          "base_uri": "https://localhost:8080/"
        },
        "id": "632aa3ec",
        "outputId": "e28d2443-5fbb-49f2-b8b7-15e8763a136f"
      },
      "outputs": [
        {
          "output_type": "stream",
          "name": "stdout",
          "text": [
            "6\n",
            "60000\n"
          ]
        }
      ],
      "source": [
        "img, label = train_data[90]\n",
        "print(label)\n",
        "print(len(train_data))"
      ]
    },
    {
      "cell_type": "code",
      "execution_count": 78,
      "id": "f34744d7",
      "metadata": {
        "colab": {
          "base_uri": "https://localhost:8080/"
        },
        "id": "f34744d7",
        "outputId": "4c981af8-d1a2-4152-8b2b-911a59464cd1"
      },
      "outputs": [
        {
          "output_type": "stream",
          "name": "stdout",
          "text": [
            "torch.Size([60000, 28, 28])\n",
            "tensor([5, 0, 4,  ..., 5, 6, 8])\n"
          ]
        }
      ],
      "source": [
        "print(train_data.data.shape)\n",
        "print(train_data.targets)"
      ]
    },
    {
      "cell_type": "code",
      "execution_count": 79,
      "id": "307c26ed",
      "metadata": {
        "id": "307c26ed"
      },
      "outputs": [],
      "source": [
        "from torch.utils.data import DataLoader"
      ]
    },
    {
      "cell_type": "code",
      "execution_count": 80,
      "id": "6ff738e2",
      "metadata": {
        "id": "6ff738e2"
      },
      "outputs": [],
      "source": [
        "subset_train = torch.utils.data.Subset(train_data, range(1000))\n",
        "subset_test = torch.utils.data.Subset(test_data, range(1000))\n",
        "train_loader = DataLoader(subset_train,\n",
        "                          batch_size = 128,\n",
        "                          shuffle = True\n",
        "                          )\n",
        "test_loader = DataLoader(subset_test,\n",
        "                          batch_size = 128,\n",
        "                          shuffle = False\n",
        "                          )"
      ]
    },
    {
      "cell_type": "code",
      "execution_count": 81,
      "id": "f7c8dbd3",
      "metadata": {
        "colab": {
          "base_uri": "https://localhost:8080/"
        },
        "id": "f7c8dbd3",
        "outputId": "c8029fe2-518e-4e5f-9ea2-94e1b0db9a56"
      },
      "outputs": [
        {
          "output_type": "stream",
          "name": "stdout",
          "text": [
            "torch.Size([128, 1, 28, 28])\n"
          ]
        }
      ],
      "source": [
        "for data, _ in train_loader:\n",
        "    print(data.shape)\n",
        "    break"
      ]
    },
    {
      "cell_type": "code",
      "execution_count": 82,
      "id": "70d8cad8",
      "metadata": {
        "colab": {
          "base_uri": "https://localhost:8080/"
        },
        "id": "70d8cad8",
        "outputId": "267308ed-d54b-4a9a-fa8f-934ab6f61b9c"
      },
      "outputs": [
        {
          "output_type": "stream",
          "name": "stdout",
          "text": [
            "torch.Size([128, 1, 28, 28])\n",
            "tensor([1, 4, 6, 9, 3, 8, 7, 3, 1, 9, 1, 5, 1, 9, 4, 1, 7, 6, 4, 2, 7, 6, 3, 7,\n",
            "        2, 6, 3, 5, 1, 6, 2, 7, 1, 6, 3, 5, 8, 5, 7, 6, 7, 3, 4, 4, 7, 2, 8, 3,\n",
            "        5, 5, 6, 4, 7, 3, 6, 4, 0, 6, 3, 1, 6, 0, 1, 5, 7, 2, 4, 2, 1, 1, 5, 7,\n",
            "        4, 9, 7, 0, 4, 8, 1, 5, 8, 0, 6, 4, 5, 9, 1, 9, 5, 8, 1, 8, 2, 2, 0, 3,\n",
            "        6, 0, 0, 3, 2, 1, 4, 7, 6, 7, 9, 0, 0, 1, 2, 1, 9, 2, 1, 0, 1, 3, 6, 6,\n",
            "        6, 7, 8, 4, 9, 2, 4, 9])\n"
          ]
        }
      ],
      "source": [
        "train_data_1, train_label_1 = next(iter(train_loader))\n",
        "print(train_data_1.shape)\n",
        "print(train_label_1)"
      ]
    },
    {
      "cell_type": "code",
      "execution_count": 83,
      "id": "b3ac4cb1",
      "metadata": {
        "colab": {
          "base_uri": "https://localhost:8080/"
        },
        "id": "b3ac4cb1",
        "outputId": "4dc23900-f858-45d6-f501-4521b7cc9e82"
      },
      "outputs": [
        {
          "output_type": "execute_result",
          "data": {
            "text/plain": [
              "torch.Size([1, 784])"
            ]
          },
          "metadata": {},
          "execution_count": 83
        }
      ],
      "source": [
        "flatten_model  = nn.Flatten()\n",
        "x = train_data_1[0]\n",
        "output = flatten_model(x)\n",
        "output.shape"
      ]
    },
    {
      "cell_type": "code",
      "execution_count": 84,
      "id": "90a1e154",
      "metadata": {
        "id": "90a1e154"
      },
      "outputs": [],
      "source": [
        "\n",
        "device = torch.device('cuda' if torch.cuda.is_available() else 'cpu')"
      ]
    },
    {
      "cell_type": "code",
      "execution_count": 85,
      "id": "bb73b32a",
      "metadata": {
        "id": "bb73b32a"
      },
      "outputs": [],
      "source": [
        "class Generator(nn.Module):\n",
        "    def __init__(self, latent_dim=64, device=None):\n",
        "        super().__init__()\n",
        "\n",
        "        self.channels = 1\n",
        "        self.img_size = (28,28)\n",
        "        self.latent_dim = latent_dim\n",
        "        activation = nn.LeakyReLU(0.2)\n",
        "        self.device = device if device is not None else torch.device(\"cpu\")\n",
        "\n",
        "        layers_dim = [self.latent_dim, 128, 256, 512, self.img_size[0]*self.img_size[1]*self.channels]\n",
        "        self.layers = nn.ModuleList([\n",
        "            nn.Sequential(\n",
        "                nn.Linear(layers_dim[i], layers_dim[i + 1]),\n",
        "                nn.LayerNorm(layers_dim[i + 1]) if i != len(layers_dim) - 2 else nn.Identity(),\n",
        "                activation if i != len(layers_dim) - 2 else nn.Tanh()\n",
        "            )\n",
        "            for i in range(len(layers_dim) - 1)\n",
        "        ])\n",
        "\n",
        "    def forward(self, x):\n",
        "        x = x.to(self.device)\n",
        "        batch_size = x.shape[0]\n",
        "        out = x.reshape(-1, self.latent_dim)\n",
        "        for layer in self.layers:\n",
        "            out = layer(out)\n",
        "        out = out.reshape(batch_size, self.channels, self.img_size[0], self.img_size[1])\n",
        "        return out\n",
        "\n",
        "\n"
      ]
    },
    {
      "cell_type": "code",
      "execution_count": 86,
      "id": "9ba0fb63",
      "metadata": {
        "id": "9ba0fb63"
      },
      "outputs": [],
      "source": [
        "class Discriminator(nn.Module):\n",
        "    def __init__(self, device):\n",
        "        super().__init__()\n",
        "\n",
        "        self.channels = 1\n",
        "        self.img_size = (28,28)\n",
        "        activation  = nn.LeakyReLU(0.2)\n",
        "        layers_dim = [self.img_size[0]*self.img_size[1]*self.channels, 512, 256, 128, 1]\n",
        "        self.layers = nn.ModuleList([\n",
        "            nn.Sequential(\n",
        "                nn.Linear(layers_dim[i], layers_dim[i + 1]),\n",
        "                nn.LayerNorm(layers_dim[i + 1]) if i != len(layers_dim) - 2 else nn.Identity(),\n",
        "                nn.Dropout(0.3) if i < len(layers_dim) - 2 else nn.Identity(),\n",
        "                activation if i != len(layers_dim) - 2 else nn.Identity()\n",
        "            )\n",
        "            for i in range(len(layers_dim) - 1)\n",
        "        ])\n",
        "        self.device = device if device is not None else torch.device(\"cpu\")\n",
        "\n",
        "    def forward(self, x):\n",
        "        x = x.to(self.device)\n",
        "        batch_size = x.shape[0]\n",
        "        out = x.reshape(-1, self.img_size[0]*self.img_size[1]*self.channels)\n",
        "        for layer in self.layers:\n",
        "            out = layer(out)\n",
        "\n",
        "        out = out.reshape(batch_size, 1)\n",
        "        return out\n",
        "\n",
        "\n"
      ]
    },
    {
      "cell_type": "code",
      "execution_count": 87,
      "id": "c3e0d450",
      "metadata": {
        "id": "c3e0d450"
      },
      "outputs": [],
      "source": [
        "from torch.optim import Adam\n",
        "generator = Generator(device=device).to(device)\n",
        "discriminator = Discriminator(device=device).to(device)\n",
        "\n",
        "optim_g = Adam(generator.parameters(), lr=2E-4, betas=(0.5, 0.999))\n",
        "optim_d= Adam(discriminator.parameters(), lr=1E-4, betas=(0.5, 0.999))\n",
        "\n",
        "criterion = torch.nn.BCEWithLogitsLoss()"
      ]
    },
    {
      "cell_type": "code",
      "execution_count": 88,
      "id": "05e23f39",
      "metadata": {
        "id": "05e23f39"
      },
      "outputs": [],
      "source": [
        "from tqdm import tqdm\n",
        "def train(generator, discriminator, train_loader):\n",
        "    generator.train()\n",
        "    discriminator.train()\n",
        "\n",
        "    gen_loss = disc_loss = 0\n",
        "    step = 0\n",
        "    for data, _ in train_loader:\n",
        "        data = data.to(device)\n",
        "        batch_size = data.shape[0]\n",
        "        step += 1\n",
        "\n",
        "        #optimizing discriminator\n",
        "        #create some fake data using normal distribution\n",
        "        optim_d.zero_grad()\n",
        "        fake_im_noise = torch.randn((batch_size, 64), device = device)\n",
        "        #the fake data will pass through generator to create fake image\n",
        "        fake_ims = generator(fake_im_noise) #batch,N,H,W\n",
        "        fake_labels = torch.zeros((batch_size, 1), device=device)*0.1\n",
        "        true_labels = torch.ones((batch_size, 1), device=device)*0.95\n",
        "\n",
        "        #I think instead of calling twice we could stack and call\n",
        "        data += 0.1 * torch.randn_like(data)\n",
        "        disc_real_pred = discriminator(data)\n",
        "        disc_fake_pred = discriminator(fake_ims)\n",
        "\n",
        "        if (torch.sigmoid(disc_real_pred).mean() > 0.9) and (torch.sigmoid(disc_fake_pred).mean() > 0.4):\n",
        "                print(\"Skipping discriminator update - too strong\")\n",
        "                continue\n",
        "        disc_real_loss = criterion(disc_real_pred, true_labels)\n",
        "        disc_fake_loss = criterion(disc_fake_pred, fake_labels)\n",
        "\n",
        "        disc_loss = (disc_real_loss + disc_fake_loss)/2\n",
        "        disc_loss.backward()\n",
        "        optim_d.step()\n",
        "\n",
        "        #Optimizing generator\n",
        "        for _ in range(1):\n",
        "            optim_g.zero_grad()\n",
        "            fake_im_noise = torch.randn((batch_size, 64), device=device)\n",
        "            fake_ims = generator(fake_im_noise)\n",
        "            disc_fake_pred = discriminator(fake_ims)\n",
        "            #generator wants fake images to be like real ones\n",
        "            gen_fake_loss = criterion(disc_fake_pred, true_labels)\n",
        "            gen_fake_loss.backward()\n",
        "\n",
        "            if torch.sigmoid(disc_fake_pred).mean() < 0.2:\n",
        "                for _ in range(2):\n",
        "                    optim_g.zero_grad()\n",
        "                    fake_ims = generator(torch.randn(batch_size, 64, device=device))\n",
        "                    gen_fake_loss = criterion(discriminator(fake_ims), true_labels)\n",
        "                    gen_fake_loss.backward()\n",
        "                    optim_g.step()\n",
        "            else:\n",
        "                optim_g.step()\n",
        "\n",
        "        gen_loss += gen_fake_loss.item()\n",
        "        disc_loss += disc_loss.item()\n",
        "\n",
        "    gen_loss /= len(train_loader)\n",
        "    disc_loss /= len(train_loader)\n",
        "\n",
        "    return gen_loss, disc_loss\n",
        "\n"
      ]
    },
    {
      "cell_type": "code",
      "execution_count": 89,
      "id": "24b1d14e",
      "metadata": {
        "id": "24b1d14e"
      },
      "outputs": [],
      "source": [
        "import matplotlib.pyplot as plt\n",
        "\n",
        "def visualise(gen, disc, test_loader):\n",
        "    fig,ax = plt.subplots(figsize=(2,2),dpi=150)\n",
        "    gen.eval()\n",
        "    disc.eval()\n",
        "    im,_ = next(iter(test_loader))\n",
        "    im = im.to(device)\n",
        "    batch_size = 1\n",
        "    with torch.no_grad():\n",
        "        xs = torch.randn((batch_size, 64), device=device)\n",
        "        points = generator(xs)[0]\n",
        "        image = points.squeeze().detach().cpu().numpy()\n",
        "\n",
        "        ax.imshow(image, cmap=\"gray\")\n",
        "        ax.axis(\"off\")\n",
        "\n",
        "        disc = discriminator(points.unsqueeze(0))\n",
        "        pred = F.sigmoid(disc).item()\n",
        "\n",
        "        real_pred = torch.sigmoid(discriminator(im)).mean().item()\n",
        "\n",
        "        print(f\"Discriminator on real: {real_pred:.3f}, on fake: {pred:.3f}\")\n",
        "\n",
        "    if pred > 0.5:\n",
        "        ax.set_title(f\"Real!\",fontsize=10)\n",
        "    else:\n",
        "        ax.set_title(f\"Generated!\",fontsize=10)\n",
        "\n",
        "    plt.show()\n",
        "\n"
      ]
    },
    {
      "cell_type": "code",
      "execution_count": 90,
      "id": "573b3101",
      "metadata": {
        "colab": {
          "base_uri": "https://localhost:8080/"
        },
        "id": "573b3101",
        "outputId": "f73a8b77-a912-4538-d805-2088696014a6"
      },
      "outputs": [
        {
          "output_type": "execute_result",
          "data": {
            "text/plain": [
              "Generator(\n",
              "  (layers): ModuleList(\n",
              "    (0): Sequential(\n",
              "      (0): Linear(in_features=64, out_features=128, bias=True)\n",
              "      (1): LayerNorm((128,), eps=1e-05, elementwise_affine=True)\n",
              "      (2): LeakyReLU(negative_slope=0.2)\n",
              "    )\n",
              "    (1): Sequential(\n",
              "      (0): Linear(in_features=128, out_features=256, bias=True)\n",
              "      (1): LayerNorm((256,), eps=1e-05, elementwise_affine=True)\n",
              "      (2): LeakyReLU(negative_slope=0.2)\n",
              "    )\n",
              "    (2): Sequential(\n",
              "      (0): Linear(in_features=256, out_features=512, bias=True)\n",
              "      (1): LayerNorm((512,), eps=1e-05, elementwise_affine=True)\n",
              "      (2): LeakyReLU(negative_slope=0.2)\n",
              "    )\n",
              "    (3): Sequential(\n",
              "      (0): Linear(in_features=512, out_features=784, bias=True)\n",
              "      (1): Identity()\n",
              "      (2): Tanh()\n",
              "    )\n",
              "  )\n",
              ")"
            ]
          },
          "metadata": {},
          "execution_count": 90
        }
      ],
      "source": [
        "def weights_init(m):\n",
        "    if isinstance(m, nn.Linear):\n",
        "        nn.init.normal_(m.weight, mean=0.0, std=0.02)\n",
        "generator.apply(weights_init)"
      ]
    },
    {
      "cell_type": "code",
      "execution_count": 91,
      "id": "06b86b8c",
      "metadata": {
        "colab": {
          "base_uri": "https://localhost:8080/",
          "height": 1000
        },
        "id": "06b86b8c",
        "outputId": "f695c36c-8e43-42fe-c890-4499ef70c428"
      },
      "outputs": [
        {
          "output_type": "stream",
          "name": "stderr",
          "text": [
            "\r  0%|          | 0/1000 [00:00<?, ?it/s]"
          ]
        },
        {
          "output_type": "stream",
          "name": "stdout",
          "text": [
            "Discriminator on real: 0.840, on fake: 0.810\n"
          ]
        },
        {
          "output_type": "stream",
          "name": "stderr",
          "text": [
            "/tmp/ipython-input-91-1688779377.py:12: UserWarning: To copy construct from a tensor, it is recommended to use sourceTensor.clone().detach() or sourceTensor.clone().detach().requires_grad_(True), rather than torch.tensor(sourceTensor).\n",
            "  d_loss.append(np.array(torch.tensor(rel2).cpu().numpy()))\n"
          ]
        },
        {
          "output_type": "display_data",
          "data": {
            "text/plain": [
              "<Figure size 300x300 with 1 Axes>"
            ],
            "image/png": "[encoded data removed]"
          },
          "metadata": {}
        },
        {
          "output_type": "stream",
          "name": "stderr",
          "text": [
            "\r  0%|          | 1/1000 [00:00<06:31,  2.55it/s]"
          ]
        },
        {
          "output_type": "stream",
          "name": "stdout",
          "text": [
            "Epoch: 0| Generator Loss: 0.5521466843783855| Discriminator Loss: 0.215799942612648\n"
          ]
        },
        {
          "output_type": "stream",
          "name": "stderr",
          "text": [
            " 10%|█         | 100/1000 [00:31<05:11,  2.89it/s]"
          ]
        },
        {
          "output_type": "stream",
          "name": "stdout",
          "text": [
            "Discriminator on real: 0.481, on fake: 0.239\n"
          ]
        },
        {
          "output_type": "display_data",
          "data": {
            "text/plain": [
              "<Figure size 300x300 with 1 Axes>"
            ],
            "image/png": "[encoded data removed]"
          },
          "metadata": {}
        },
        {
          "output_type": "stream",
          "name": "stderr",
          "text": [
            "\r 10%|█         | 101/1000 [00:31<05:09,  2.90it/s]"
          ]
        },
        {
          "output_type": "stream",
          "name": "stdout",
          "text": [
            "Epoch: 100| Generator Loss: 1.3800332844257355| Discriminator Loss: 0.1537798047065735\n"
          ]
        },
        {
          "output_type": "stream",
          "name": "stderr",
          "text": [
            " 20%|██        | 200/1000 [01:02<03:54,  3.42it/s]"
          ]
        },
        {
          "output_type": "stream",
          "name": "stdout",
          "text": [
            "Discriminator on real: 0.791, on fake: 0.374\n"
          ]
        },
        {
          "output_type": "display_data",
          "data": {
            "text/plain": [
              "<Figure size 300x300 with 1 Axes>"
            ],
            "image/png": "[encoded data removed]"
          },
          "metadata": {}
        },
        {
          "output_type": "stream",
          "name": "stderr",
          "text": [
            "\r 20%|██        | 201/1000 [01:02<04:12,  3.17it/s]"
          ]
        },
        {
          "output_type": "stream",
          "name": "stdout",
          "text": [
            "Epoch: 200| Generator Loss: 1.2511108666658401| Discriminator Loss: 0.1306387186050415\n"
          ]
        },
        {
          "output_type": "stream",
          "name": "stderr",
          "text": [
            " 30%|███       | 300/1000 [01:34<03:28,  3.36it/s]"
          ]
        },
        {
          "output_type": "stream",
          "name": "stdout",
          "text": [
            "Discriminator on real: 0.717, on fake: 0.218\n"
          ]
        },
        {
          "output_type": "display_data",
          "data": {
            "text/plain": [
              "<Figure size 300x300 with 1 Axes>"
            ],
            "image/png": "[encoded data removed]"
          },
          "metadata": {}
        },
        {
          "output_type": "stream",
          "name": "stderr",
          "text": [
            "\r 30%|███       | 301/1000 [01:34<03:38,  3.20it/s]"
          ]
        },
        {
          "output_type": "stream",
          "name": "stdout",
          "text": [
            "Epoch: 300| Generator Loss: 1.4993609637022018| Discriminator Loss: 0.11872133612632751\n"
          ]
        },
        {
          "output_type": "stream",
          "name": "stderr",
          "text": [
            " 40%|████      | 400/1000 [02:06<03:39,  2.73it/s]"
          ]
        },
        {
          "output_type": "stream",
          "name": "stdout",
          "text": [
            "Discriminator on real: 0.802, on fake: 0.477\n"
          ]
        },
        {
          "output_type": "display_data",
          "data": {
            "text/plain": [
              "<Figure size 300x300 with 1 Axes>"
            ],
            "image/png": "[encoded data removed]"
          },
          "metadata": {}
        },
        {
          "output_type": "stream",
          "name": "stderr",
          "text": [
            "\r 40%|████      | 401/1000 [02:07<04:16,  2.34it/s]"
          ]
        },
        {
          "output_type": "stream",
          "name": "stdout",
          "text": [
            "Epoch: 400| Generator Loss: 1.305906891822815| Discriminator Loss: 0.13352647423744202\n"
          ]
        },
        {
          "output_type": "stream",
          "name": "stderr",
          "text": [
            " 50%|█████     | 500/1000 [02:38<02:36,  3.20it/s]"
          ]
        },
        {
          "output_type": "stream",
          "name": "stdout",
          "text": [
            "Discriminator on real: 0.753, on fake: 0.521\n"
          ]
        },
        {
          "output_type": "display_data",
          "data": {
            "text/plain": [
              "<Figure size 300x300 with 1 Axes>"
            ],
            "image/png": "[encoded data removed]"
          },
          "metadata": {}
        },
        {
          "output_type": "stream",
          "name": "stderr",
          "text": [
            "\r 50%|█████     | 501/1000 [02:39<02:44,  3.02it/s]"
          ]
        },
        {
          "output_type": "stream",
          "name": "stdout",
          "text": [
            "Epoch: 500| Generator Loss: 1.3183040171861649| Discriminator Loss: 0.12404108047485352\n"
          ]
        },
        {
          "output_type": "stream",
          "name": "stderr",
          "text": [
            " 60%|██████    | 600/1000 [03:10<01:58,  3.38it/s]"
          ]
        },
        {
          "output_type": "stream",
          "name": "stdout",
          "text": [
            "Discriminator on real: 0.748, on fake: 0.219\n"
          ]
        },
        {
          "output_type": "display_data",
          "data": {
            "text/plain": [
              "<Figure size 300x300 with 1 Axes>"
            ],
            "image/png": "[encoded data removed]"
          },
          "metadata": {}
        },
        {
          "output_type": "stream",
          "name": "stderr",
          "text": [
            "\r 60%|██████    | 601/1000 [03:10<02:07,  3.14it/s]"
          ]
        },
        {
          "output_type": "stream",
          "name": "stdout",
          "text": [
            "Epoch: 600| Generator Loss: 1.3016903400421143| Discriminator Loss: 0.1441260278224945\n"
          ]
        },
        {
          "output_type": "stream",
          "name": "stderr",
          "text": [
            " 70%|███████   | 700/1000 [03:40<01:27,  3.42it/s]"
          ]
        },
        {
          "output_type": "stream",
          "name": "stdout",
          "text": [
            "Discriminator on real: 0.561, on fake: 0.493\n"
          ]
        },
        {
          "output_type": "display_data",
          "data": {
            "text/plain": [
              "<Figure size 300x300 with 1 Axes>"
            ],
            "image/png": "[encoded data removed]"
          },
          "metadata": {}
        },
        {
          "output_type": "stream",
          "name": "stderr",
          "text": [
            "\r 70%|███████   | 701/1000 [03:41<01:34,  3.16it/s]"
          ]
        },
        {
          "output_type": "stream",
          "name": "stdout",
          "text": [
            "Epoch: 700| Generator Loss: 1.2830482870340347| Discriminator Loss: 0.1529974341392517\n"
          ]
        },
        {
          "output_type": "stream",
          "name": "stderr",
          "text": [
            " 80%|████████  | 800/1000 [04:11<00:57,  3.45it/s]"
          ]
        },
        {
          "output_type": "stream",
          "name": "stdout",
          "text": [
            "Discriminator on real: 0.774, on fake: 0.873\n"
          ]
        },
        {
          "output_type": "display_data",
          "data": {
            "text/plain": [
              "<Figure size 300x300 with 1 Axes>"
            ],
            "image/png": "[encoded data removed]"
          },
          "metadata": {}
        },
        {
          "output_type": "stream",
          "name": "stderr",
          "text": [
            "\r 80%|████████  | 801/1000 [04:12<01:01,  3.23it/s]"
          ]
        },
        {
          "output_type": "stream",
          "name": "stdout",
          "text": [
            "Epoch: 800| Generator Loss: 1.2396515980362892| Discriminator Loss: 0.15550033748149872\n"
          ]
        },
        {
          "output_type": "stream",
          "name": "stderr",
          "text": [
            " 90%|█████████ | 900/1000 [04:41<00:28,  3.50it/s]"
          ]
        },
        {
          "output_type": "stream",
          "name": "stdout",
          "text": [
            "Discriminator on real: 0.514, on fake: 0.214\n"
          ]
        },
        {
          "output_type": "display_data",
          "data": {
            "text/plain": [
              "<Figure size 300x300 with 1 Axes>"
            ],
            "image/png": "[encoded data removed]"
          },
          "metadata": {}
        },
        {
          "output_type": "stream",
          "name": "stderr",
          "text": [
            "\r 90%|█████████ | 901/1000 [04:42<00:30,  3.25it/s]"
          ]
        },
        {
          "output_type": "stream",
          "name": "stdout",
          "text": [
            "Epoch: 900| Generator Loss: 1.24435805529356| Discriminator Loss: 0.1427648514509201\n"
          ]
        },
        {
          "output_type": "stream",
          "name": "stderr",
          "text": [
            "100%|█████████▉| 999/1000 [05:12<00:00,  3.46it/s]"
          ]
        },
        {
          "output_type": "stream",
          "name": "stdout",
          "text": [
            "Discriminator on real: 0.686, on fake: 0.711\n"
          ]
        },
        {
          "output_type": "display_data",
          "data": {
            "text/plain": [
              "<Figure size 300x300 with 1 Axes>"
            ],
            "image/png": "[encoded data removed]"
          },
          "metadata": {}
        },
        {
          "output_type": "stream",
          "name": "stderr",
          "text": [
            "100%|██████████| 1000/1000 [05:12<00:00,  3.20it/s]"
          ]
        },
        {
          "output_type": "stream",
          "name": "stdout",
          "text": [
            "Epoch: 999| Generator Loss: 1.2954506650567055| Discriminator Loss: 0.13411599397659302\n"
          ]
        },
        {
          "output_type": "stream",
          "name": "stderr",
          "text": [
            "\n"
          ]
        }
      ],
      "source": [
        "#store the loss (how bad generator is)\n",
        "#store the loss(how bad discriminator is at recognising)\n",
        "g_loss = []\n",
        "d_loss = []\n",
        "ep = []\n",
        "num_epoch = 1000\n",
        "import numpy as np\n",
        "from tqdm import trange\n",
        "for epoch in trange(num_epoch):\n",
        "    rel1, rel2 = train(generator, discriminator, train_loader)\n",
        "    g_loss.append(np.array(torch.tensor(rel1).cpu().numpy()))\n",
        "    d_loss.append(np.array(torch.tensor(rel2).cpu().numpy()))\n",
        "    ep.append(epoch)\n",
        "\n",
        "    if epoch%100 == 0 or epoch == num_epoch-1:\n",
        "        visualise(generator, discriminator, test_loader )\n",
        "        print(f\"Epoch: {epoch}| Generator Loss: {rel1}| Discriminator Loss: {rel2}\")\n",
        "    torch.save(generator.state_dict(), 'generator_ckpt.pth')\n",
        "    torch.save(discriminator.state_dict(), 'discriminator_ckpt.pth')\n"
      ]
    },
    {
      "cell_type": "code",
      "execution_count": 92,
      "id": "4bc0526a",
      "metadata": {
        "colab": {
          "base_uri": "https://localhost:8080/",
          "height": 452
        },
        "id": "4bc0526a",
        "outputId": "717a2cc4-ee73-4926-daf9-34af4c2bd23b"
      },
      "outputs": [
        {
          "output_type": "display_data",
          "data": {
            "text/plain": [
              "<Figure size 640x480 with 1 Axes>"
            ],
            "image/png": "[encoded data removed]"
          },
          "metadata": {}
        }
      ],
      "source": [
        "import matplotlib.pyplot as plt\n",
        "plt.plot(ep, g_loss, color = \"red\", label = \"Generator_Loss\")\n",
        "plt.plot(ep, d_loss, color = \"blue\", label=\"Discriminator_Loss\")\n",
        "plt.legend()\n",
        "plt.title(\"GAN Loss Curves)\")\n",
        "plt.show()"
      ]
    },
    {
      "cell_type": "code",
      "execution_count": 92,
      "id": "ffb47a94",
      "metadata": {
        "id": "ffb47a94"
      },
      "outputs": [],
      "source": []
    }
  ],
  "metadata": {
    "kernelspec": {
      "display_name": "Python 3",
      "name": "python3"
    },
    "language_info": {
      "codemirror_mode": {
        "name": "ipython",
        "version": 3
      },
      "file_extension": ".py",
      "mimetype": "text/x-python",
      "name": "python",
      "nbconvert_exporter": "python",
      "pygments_lexer": "ipython3",
      "version": "3.12.3"
    },
    "colab": {
      "provenance": [],
      "gpuType": "T4",
      "include_colab_link": true
    },
    "accelerator": "GPU"
  },
  "nbformat": 4,
  "nbformat_minor": 5
}